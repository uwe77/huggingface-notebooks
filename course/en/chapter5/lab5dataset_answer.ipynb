{
 "cells": [
  {
   "cell_type": "markdown",
   "metadata": {},
   "source": [
    "# Lab5 dataset library"
   ]
  },
  {
   "cell_type": "markdown",
   "metadata": {},
   "source": [
    "Install the Transformers, Datasets, and Evaluate libraries to run this notebook."
   ]
  },
  {
   "cell_type": "code",
   "execution_count": 1,
   "metadata": {},
   "outputs": [
    {
     "name": "stdout",
     "output_type": "stream",
     "text": [
      "/usr/bin/pip:6: DeprecationWarning: pkg_resources is deprecated as an API. See https://setuptools.pypa.io/en/latest/pkg_resources.html\n",
      "  from pkg_resources import load_entry_point\n"
     ]
    },
    {
     "name": "stdout",
     "output_type": "stream",
     "text": [
      "Requirement already satisfied: datasets in /home/welly/.local/lib/python3.8/site-packages (2.16.1)\n",
      "Requirement already satisfied: evaluate in /home/welly/.local/lib/python3.8/site-packages (0.4.1)\n",
      "Requirement already satisfied: transformers[sentencepiece] in /home/welly/.local/lib/python3.8/site-packages (4.37.2)\n",
      "Requirement already satisfied: filelock in /home/welly/.local/lib/python3.8/site-packages (from datasets) (3.12.0)\n",
      "Requirement already satisfied: numpy>=1.17 in /home/welly/.local/lib/python3.8/site-packages (from datasets) (1.24.3)\n",
      "Requirement already satisfied: pyarrow>=8.0.0 in /home/welly/.local/lib/python3.8/site-packages (from datasets) (15.0.0)\n",
      "Requirement already satisfied: pyarrow-hotfix in /home/welly/.local/lib/python3.8/site-packages (from datasets) (0.6)\n",
      "Requirement already satisfied: dill<0.3.8,>=0.3.0 in /home/welly/.local/lib/python3.8/site-packages (from datasets) (0.3.7)\n",
      "Requirement already satisfied: pandas in /home/welly/.local/lib/python3.8/site-packages (from datasets) (2.0.1)\n",
      "Requirement already satisfied: requests>=2.19.0 in /home/welly/.local/lib/python3.8/site-packages (from datasets) (2.31.0)\n",
      "Requirement already satisfied: tqdm>=4.62.1 in /home/welly/.local/lib/python3.8/site-packages (from datasets) (4.65.0)\n",
      "Requirement already satisfied: xxhash in /home/welly/.local/lib/python3.8/site-packages (from datasets) (3.4.1)\n",
      "Requirement already satisfied: multiprocess in /home/welly/.local/lib/python3.8/site-packages (from datasets) (0.70.15)\n",
      "Requirement already satisfied: fsspec[http]<=2023.10.0,>=2023.1.0 in /home/welly/.local/lib/python3.8/site-packages (from datasets) (2023.5.0)\n",
      "Requirement already satisfied: aiohttp in /usr/local/lib/python3.8/dist-packages (from datasets) (3.8.4)\n",
      "Requirement already satisfied: huggingface-hub>=0.19.4 in /home/welly/.local/lib/python3.8/site-packages (from datasets) (0.20.3)\n",
      "Requirement already satisfied: packaging in /home/welly/.local/lib/python3.8/site-packages (from datasets) (23.1)\n",
      "Requirement already satisfied: pyyaml>=5.1 in /home/welly/.local/lib/python3.8/site-packages (from datasets) (6.0.1)\n",
      "Requirement already satisfied: responses<0.19 in /home/welly/.local/lib/python3.8/site-packages (from evaluate) (0.18.0)\n",
      "Requirement already satisfied: regex!=2019.12.17 in /home/welly/.local/lib/python3.8/site-packages (from transformers[sentencepiece]) (2023.5.5)\n",
      "Requirement already satisfied: tokenizers<0.19,>=0.14 in /home/welly/.local/lib/python3.8/site-packages (from transformers[sentencepiece]) (0.15.1)\n",
      "Requirement already satisfied: safetensors>=0.4.1 in /home/welly/.local/lib/python3.8/site-packages (from transformers[sentencepiece]) (0.4.2)\n",
      "Requirement already satisfied: sentencepiece!=0.1.92,>=0.1.91; extra == \"sentencepiece\" in /home/welly/.local/lib/python3.8/site-packages (from transformers[sentencepiece]) (0.1.99)\n",
      "Requirement already satisfied: protobuf; extra == \"sentencepiece\" in /home/welly/.local/lib/python3.8/site-packages (from transformers[sentencepiece]) (3.19.6)\n",
      "Requirement already satisfied: python-dateutil>=2.8.2 in /home/welly/.local/lib/python3.8/site-packages (from pandas->datasets) (2.8.2)\n",
      "Requirement already satisfied: pytz>=2020.1 in /home/welly/.local/lib/python3.8/site-packages (from pandas->datasets) (2023.3)\n",
      "Requirement already satisfied: tzdata>=2022.1 in /home/welly/.local/lib/python3.8/site-packages (from pandas->datasets) (2023.3)\n",
      "Requirement already satisfied: charset-normalizer<4,>=2 in /usr/local/lib/python3.8/dist-packages (from requests>=2.19.0->datasets) (3.2.0)\n",
      "Requirement already satisfied: idna<4,>=2.5 in /usr/lib/python3/dist-packages (from requests>=2.19.0->datasets) (2.8)\n",
      "Requirement already satisfied: urllib3<3,>=1.21.1 in /usr/lib/python3/dist-packages (from requests>=2.19.0->datasets) (1.25.8)\n",
      "Requirement already satisfied: certifi>=2017.4.17 in /usr/lib/python3/dist-packages (from requests>=2.19.0->datasets) (2019.11.28)\n",
      "Requirement already satisfied: attrs>=17.3.0 in /home/welly/.local/lib/python3.8/site-packages (from aiohttp->datasets) (23.1.0)\n",
      "Requirement already satisfied: multidict<7.0,>=4.5 in /usr/local/lib/python3.8/dist-packages (from aiohttp->datasets) (6.0.4)\n",
      "Requirement already satisfied: async-timeout<5.0,>=4.0.0a3 in /usr/local/lib/python3.8/dist-packages (from aiohttp->datasets) (4.0.2)\n",
      "Requirement already satisfied: yarl<2.0,>=1.0 in /usr/local/lib/python3.8/dist-packages (from aiohttp->datasets) (1.9.2)\n",
      "Requirement already satisfied: frozenlist>=1.1.1 in /usr/local/lib/python3.8/dist-packages (from aiohttp->datasets) (1.3.3)\n",
      "Requirement already satisfied: aiosignal>=1.1.2 in /usr/local/lib/python3.8/dist-packages (from aiohttp->datasets) (1.3.1)\n",
      "Requirement already satisfied: typing-extensions>=3.7.4.3 in /home/welly/.local/lib/python3.8/site-packages (from huggingface-hub>=0.19.4->datasets) (4.10.0)\n",
      "Requirement already satisfied: six>=1.5 in /usr/lib/python3/dist-packages (from python-dateutil>=2.8.2->pandas->datasets) (1.14.0)\n"
     ]
    }
   ],
   "source": [
    "!pip install datasets evaluate transformers[sentencepiece]"
   ]
  },
  {
   "cell_type": "markdown",
   "metadata": {},
   "source": [
    "## Load dataset from local csv"
   ]
  },
  {
   "cell_type": "code",
   "execution_count": 2,
   "metadata": {},
   "outputs": [
    {
     "data": {
      "text/plain": [
       "DatasetDict({\n",
       "    train: Dataset({\n",
       "        features: ['Unnamed: 0', 'country', 'description', 'designation', 'points', 'price', 'province', 'region_1', 'region_2', 'taster_name', 'taster_twitter_handle', 'title', 'variety', 'winery'],\n",
       "        num_rows: 86148\n",
       "    })\n",
       "})"
      ]
     },
     "execution_count": 2,
     "metadata": {},
     "output_type": "execute_result"
    }
   ],
   "source": [
    "from datasets import load_dataset\n",
    "\n",
    "data_file = \"wine-dataset.csv\"\n",
    "# \\t is the tab character in Python\n",
    "wine_dataset = load_dataset(\"csv\", data_files=data_file, delimiter=\",\")\n",
    "wine_dataset"
   ]
  },
  {
   "cell_type": "markdown",
   "metadata": {},
   "source": [
    "### rename_column\n",
    "you need to rename the first column Unnamed: 0 to wine_id"
   ]
  },
  {
   "cell_type": "code",
   "execution_count": 3,
   "metadata": {},
   "outputs": [
    {
     "data": {
      "text/plain": [
       "DatasetDict({\n",
       "    train: Dataset({\n",
       "        features: ['wine_id', 'country', 'description', 'designation', 'points', 'price', 'province', 'region_1', 'region_2', 'taster_name', 'taster_twitter_handle', 'title', 'variety', 'winery'],\n",
       "        num_rows: 86148\n",
       "    })\n",
       "})"
      ]
     },
     "execution_count": 3,
     "metadata": {},
     "output_type": "execute_result"
    }
   ],
   "source": [
    "wine_dataset = wine_dataset.rename_column(\n",
    "    original_column_name=\"Unnamed: 0\", new_column_name=\"wine_id\"\n",
    ")\n",
    "wine_dataset"
   ]
  },
  {
   "cell_type": "markdown",
   "metadata": {},
   "source": [
    "### remove_column\n",
    "you need to remove the unused column after price "
   ]
  },
  {
   "cell_type": "code",
   "execution_count": 4,
   "metadata": {},
   "outputs": [],
   "source": [
    "wine_dataset = wine_dataset.remove_columns(\n",
    "\tcolumn_names=[\"province\", \"region_1\", \"region_2\", \"taster_name\", \"taster_twitter_handle\", \"title\", \"variety\", \"winery\"]\n",
    ")"
   ]
  },
  {
   "cell_type": "markdown",
   "metadata": {},
   "source": [
    "### use map function \n",
    "you need to use map function to turn 'country' 'description' to lowercase"
   ]
  },
  {
   "cell_type": "code",
   "execution_count": 5,
   "metadata": {},
   "outputs": [],
   "source": [
    "def to_lowercase(example):\n",
    "    example['description'] = example['description'].lower()\n",
    "    example['country'] = example['country'].lower()\n",
    "    return example\n",
    "wine_dataset = wine_dataset.map(to_lowercase)"
   ]
  },
  {
   "cell_type": "code",
   "execution_count": 6,
   "metadata": {},
   "outputs": [
    {
     "name": "stdout",
     "output_type": "stream",
     "text": [
      "Dataset({\n",
      "    features: ['wine_id', 'country', 'description', 'designation', 'points', 'price'],\n",
      "    num_rows: 68918\n",
      "})\n",
      "Dataset({\n",
      "    features: ['wine_id', 'country', 'description', 'designation', 'points', 'price'],\n",
      "    num_rows: 17230\n",
      "})\n"
     ]
    }
   ],
   "source": [
    "split_dataset = wine_dataset[\"train\"].train_test_split(test_size=0.2)\n",
    "train_dataset = split_dataset[\"train\"]\n",
    "test_dataset = split_dataset[\"test\"]\n",
    "print(train_dataset)\n",
    "print(test_dataset)\t"
   ]
  },
  {
   "cell_type": "code",
   "execution_count": 7,
   "metadata": {},
   "outputs": [
    {
     "name": "stdout",
     "output_type": "stream",
     "text": [
      "[7049, 11011, 106846, 22388, 88161, 10774, 70560, 129315, 25980, 7577]\n",
      "['portugal', 'us', 'us', 'croatia', 'south africa', 'us', 'portugal', 'us', 'us', 'chile']\n"
     ]
    }
   ],
   "source": [
    "wine_sample = train_dataset.shuffle(seed=42).select(range(10))\n",
    "# Peek at the first few examples\n",
    "print(wine_sample[\"wine_id\"])\n",
    "print(wine_sample[\"country\"])"
   ]
  },
  {
   "cell_type": "markdown",
   "metadata": {},
   "source": [
    "### Use filter function\n",
    "you need to use filter function and try to write two lambda function to get 2 subset \n",
    "1. country of wine is italy\n",
    "2. points of wine is > 90   "
   ]
  },
  {
   "cell_type": "code",
   "execution_count": 8,
   "metadata": {},
   "outputs": [
    {
     "data": {
      "application/vnd.jupyter.widget-view+json": {
       "model_id": "a8ca942180bc4ee3b5d22158eaa2d87d",
       "version_major": 2,
       "version_minor": 0
      },
      "text/plain": [
       "Filter:   0%|          | 0/68918 [00:00<?, ? examples/s]"
      ]
     },
     "metadata": {},
     "output_type": "display_data"
    },
    {
     "name": "stdout",
     "output_type": "stream",
     "text": [
      "\n",
      "Filtered Italian wines sample:\n",
      "{'wine_id': [57581, 108811, 62886], 'country': ['italy', 'italy', 'italy'], 'description': ['this concentrated wine offers aromas of tobacco leaf, stewed plum, grilled porcini mushroom and sage. the lush palate delivers blackberry extract layered with notes of chocolate and vanilla alongside velvety, embracing tannins.', 'savory spice and candied fruit notes emerge on the bouquet of this sophisticated wine. it shows tight, silky tannins and delivers a brightly intense finish with notes of dried ginger, cedar and licorice.', 'serpico is a beautiful but also modern expression of aglianico (the grapes come from ancient vines in the taurasi area) that opens with dark notes of blackberry, crushed stone, chocolate, rum cake, licorice and cola. the mouthfeel is smooth, firm and very rich.'], 'designation': ['Bosan Riserva', \"Rocche dell'Annunziata\", 'Serpico'], 'points': [93, 92, 92], 'price': [115.0, 75.0, 80.0]}\n"
     ]
    },
    {
     "data": {
      "application/vnd.jupyter.widget-view+json": {
       "model_id": "2fda484fd3de4c19bf8dead2eb78d887",
       "version_major": 2,
       "version_minor": 0
      },
      "text/plain": [
       "Filter:   0%|          | 0/68918 [00:00<?, ? examples/s]"
      ]
     },
     "metadata": {},
     "output_type": "display_data"
    },
    {
     "name": "stdout",
     "output_type": "stream",
     "text": [
      "\n",
      "Highly rated wines sample:\n",
      "{'wine_id': [7335, 36528, 42197], 'country': ['italy', 'france', 'portugal'], 'description': [\"thick as molasses and dark as caramelized brown sugar, the wine oozes out of the bottle releasing concentrated aromas of butterscotch, toffee, honey, licorice, coffee, resin and maple syrup. grapes from the montepulciano area are dried in a ventilated room and the wine ages over 10 years in tiny oak barrels resulting in thick, dark concentration. don't pair it with food: vin santo as good as this deserves to be enjoyed alone, as a so-called “meditation wine.”\", 'this is a fabulous wine from the greatest champagne vintage so far this century. still young, it blends almost equal amounts of pinot noir and chardonnay fleshed out with pinot meunier. the minerality and the rich apple and green fruits are balanced, and acidity cuts into the wine with a pure, perfumed line of freshness. the wine could be drunk now, but it will age well into the the 2020s.', \"this is the latest release of what has long been regarded as portugal's iconic wine. and it is magnificent. the last vintage was the 2004 and the wait has now shown to be worthwhile. with its immense span and breadth of flavors and rich structure it is a superb manifestation of the great vineyards of the douro superior. big bold fruits and acidity are matched by the tannins and concentration. hold this for many years or at least wait until 2022.\"], 'designation': ['Occhio di Pernice', 'Brut', 'Barca-Velha'], 'points': [100, 100, 100], 'price': [210.0, 259.0, 450.0]}\n"
     ]
    }
   ],
   "source": [
    "# Perform basic operations\n",
    "# Example: Filter for wines from Italy\n",
    "italian_wines = train_dataset.filter(lambda example: example['country'] == 'italy')\n",
    "print(\"\\nFiltered Italian wines sample:\")\n",
    "print(italian_wines[:3])\n",
    "# Example: Select wines with more than 90 points\n",
    "highly_rated_wines = train_dataset.filter(lambda example: example['points'] > 90)\n",
    "highly_rated_wines = highly_rated_wines.sort(\"points\", reverse=True)\n",
    "print(\"\\nHighly rated wines sample:\")\n",
    "print(highly_rated_wines[:3])"
   ]
  },
  {
   "cell_type": "markdown",
   "metadata": {},
   "source": [
    "## Dataset library with pandas"
   ]
  },
  {
   "cell_type": "code",
   "execution_count": 9,
   "metadata": {},
   "outputs": [],
   "source": [
    "train_dataset.set_format(\"pandas\")"
   ]
  },
  {
   "cell_type": "code",
   "execution_count": 10,
   "metadata": {},
   "outputs": [
    {
     "data": {
      "text/html": [
       "<div>\n",
       "<style scoped>\n",
       "    .dataframe tbody tr th:only-of-type {\n",
       "        vertical-align: middle;\n",
       "    }\n",
       "\n",
       "    .dataframe tbody tr th {\n",
       "        vertical-align: top;\n",
       "    }\n",
       "\n",
       "    .dataframe thead th {\n",
       "        text-align: right;\n",
       "    }\n",
       "</style>\n",
       "<table border=\"1\" class=\"dataframe\">\n",
       "  <thead>\n",
       "    <tr style=\"text-align: right;\">\n",
       "      <th></th>\n",
       "      <th>wine_id</th>\n",
       "      <th>country</th>\n",
       "      <th>description</th>\n",
       "      <th>designation</th>\n",
       "      <th>points</th>\n",
       "      <th>price</th>\n",
       "    </tr>\n",
       "  </thead>\n",
       "  <tbody>\n",
       "    <tr>\n",
       "      <th>0</th>\n",
       "      <td>37157</td>\n",
       "      <td>us</td>\n",
       "      <td>golden yellow coloring and deeply perfumed not...</td>\n",
       "      <td>Skin Ferment</td>\n",
       "      <td>85</td>\n",
       "      <td>27.0</td>\n",
       "    </tr>\n",
       "    <tr>\n",
       "      <th>1</th>\n",
       "      <td>57581</td>\n",
       "      <td>italy</td>\n",
       "      <td>this concentrated wine offers aromas of tobacc...</td>\n",
       "      <td>Bosan Riserva</td>\n",
       "      <td>93</td>\n",
       "      <td>115.0</td>\n",
       "    </tr>\n",
       "    <tr>\n",
       "      <th>2</th>\n",
       "      <td>108467</td>\n",
       "      <td>us</td>\n",
       "      <td>with each new vintage of cuvée elena, the blen...</td>\n",
       "      <td>Cuvée Elena</td>\n",
       "      <td>94</td>\n",
       "      <td>40.0</td>\n",
       "    </tr>\n",
       "  </tbody>\n",
       "</table>\n",
       "</div>"
      ],
      "text/plain": [
       "   wine_id country                                        description   \n",
       "0    37157      us  golden yellow coloring and deeply perfumed not...  \\\n",
       "1    57581   italy  this concentrated wine offers aromas of tobacc...   \n",
       "2   108467      us  with each new vintage of cuvée elena, the blen...   \n",
       "\n",
       "     designation  points  price  \n",
       "0   Skin Ferment      85   27.0  \n",
       "1  Bosan Riserva      93  115.0  \n",
       "2    Cuvée Elena      94   40.0  "
      ]
     },
     "execution_count": 10,
     "metadata": {},
     "output_type": "execute_result"
    }
   ],
   "source": [
    "train_dataset[:3]"
   ]
  },
  {
   "cell_type": "code",
   "execution_count": 11,
   "metadata": {},
   "outputs": [],
   "source": [
    "train_df = train_dataset[:]"
   ]
  },
  {
   "cell_type": "code",
   "execution_count": 12,
   "metadata": {},
   "outputs": [
    {
     "data": {
      "text/html": [
       "<div>\n",
       "<style scoped>\n",
       "    .dataframe tbody tr th:only-of-type {\n",
       "        vertical-align: middle;\n",
       "    }\n",
       "\n",
       "    .dataframe tbody tr th {\n",
       "        vertical-align: top;\n",
       "    }\n",
       "\n",
       "    .dataframe thead th {\n",
       "        text-align: right;\n",
       "    }\n",
       "</style>\n",
       "<table border=\"1\" class=\"dataframe\">\n",
       "  <thead>\n",
       "    <tr style=\"text-align: right;\">\n",
       "      <th></th>\n",
       "      <th>points</th>\n",
       "      <th>frequency</th>\n",
       "    </tr>\n",
       "  </thead>\n",
       "  <tbody>\n",
       "    <tr>\n",
       "      <th>0</th>\n",
       "      <td>88</td>\n",
       "      <td>8802</td>\n",
       "    </tr>\n",
       "    <tr>\n",
       "      <th>1</th>\n",
       "      <td>90</td>\n",
       "      <td>8490</td>\n",
       "    </tr>\n",
       "    <tr>\n",
       "      <th>2</th>\n",
       "      <td>87</td>\n",
       "      <td>8406</td>\n",
       "    </tr>\n",
       "    <tr>\n",
       "      <th>3</th>\n",
       "      <td>91</td>\n",
       "      <td>6634</td>\n",
       "    </tr>\n",
       "    <tr>\n",
       "      <th>4</th>\n",
       "      <td>89</td>\n",
       "      <td>6542</td>\n",
       "    </tr>\n",
       "  </tbody>\n",
       "</table>\n",
       "</div>"
      ],
      "text/plain": [
       "   points  frequency\n",
       "0      88       8802\n",
       "1      90       8490\n",
       "2      87       8406\n",
       "3      91       6634\n",
       "4      89       6542"
      ]
     },
     "execution_count": 12,
     "metadata": {},
     "output_type": "execute_result"
    }
   ],
   "source": [
    "frequencies = (\n",
    "    train_df[\"points\"]\n",
    "    .value_counts()\n",
    "    .to_frame()\n",
    "    .reset_index()\n",
    "    .rename(columns={\"count\": \"frequency\"})\n",
    ")\n",
    "frequencies.head()"
   ]
  },
  {
   "cell_type": "code",
   "execution_count": 13,
   "metadata": {},
   "outputs": [],
   "source": [
    "train_dataset.reset_format()"
   ]
  },
  {
   "cell_type": "markdown",
   "metadata": {},
   "source": [
    "## Push your own dataset to hub"
   ]
  },
  {
   "cell_type": "code",
   "execution_count": 14,
   "metadata": {},
   "outputs": [
    {
     "data": {
      "application/vnd.jupyter.widget-view+json": {
       "model_id": "d0349fb139e64570b76854f65479296d",
       "version_major": 2,
       "version_minor": 0
      },
      "text/plain": [
       "VBox(children=(HTML(value='<center> <img\\nsrc=https://huggingface.co/front/assets/huggingface_logo-noborder.sv…"
      ]
     },
     "metadata": {},
     "output_type": "display_data"
    }
   ],
   "source": [
    "from huggingface_hub import notebook_login\n",
    "\n",
    "notebook_login()"
   ]
  },
  {
   "cell_type": "code",
   "execution_count": 15,
   "metadata": {},
   "outputs": [
    {
     "data": {
      "application/vnd.jupyter.widget-view+json": {
       "model_id": "a3d05c0f00274ad5bf209f9b74bbe827",
       "version_major": 2,
       "version_minor": 0
      },
      "text/plain": [
       "Uploading the dataset shards:   0%|          | 0/1 [00:00<?, ?it/s]"
      ]
     },
     "metadata": {},
     "output_type": "display_data"
    },
    {
     "data": {
      "application/vnd.jupyter.widget-view+json": {
       "model_id": "0418c6da052d462da4dd31b9f0865001",
       "version_major": 2,
       "version_minor": 0
      },
      "text/plain": [
       "Creating parquet from Arrow format:   0%|          | 0/69 [00:00<?, ?ba/s]"
      ]
     },
     "metadata": {},
     "output_type": "display_data"
    },
    {
     "data": {
      "application/vnd.jupyter.widget-view+json": {
       "model_id": "ba5bd4bb1cc3430faa40f293c87afefe",
       "version_major": 2,
       "version_minor": 0
      },
      "text/plain": [
       "Uploading the dataset shards:   0%|          | 0/1 [00:00<?, ?it/s]"
      ]
     },
     "metadata": {},
     "output_type": "display_data"
    },
    {
     "data": {
      "application/vnd.jupyter.widget-view+json": {
       "model_id": "dca770898e4149f5b435f55a25e9b8f7",
       "version_major": 2,
       "version_minor": 0
      },
      "text/plain": [
       "Creating parquet from Arrow format:   0%|          | 0/18 [00:00<?, ?ba/s]"
      ]
     },
     "metadata": {},
     "output_type": "display_data"
    },
    {
     "data": {
      "application/vnd.jupyter.widget-view+json": {
       "model_id": "ab1e166a60094043a8e714e1fadb36ef",
       "version_major": 2,
       "version_minor": 0
      },
      "text/plain": [
       "README.md:   0%|          | 0.00/586 [00:00<?, ?B/s]"
      ]
     },
     "metadata": {},
     "output_type": "display_data"
    },
    {
     "data": {
      "text/plain": [
       "CommitInfo(commit_url='https://huggingface.co/datasets/Wellyowo/wine_review/commit/d969f5fdf3846db6b6b722bf9bb4952bea454e7c', commit_message='Upload dataset', commit_description='', oid='d969f5fdf3846db6b6b722bf9bb4952bea454e7c', pr_url=None, pr_revision=None, pr_num=None)"
      ]
     },
     "execution_count": 15,
     "metadata": {},
     "output_type": "execute_result"
    }
   ],
   "source": [
    "\n",
    "from datasets import DatasetDict\n",
    "dataset_dict = DatasetDict({\n",
    "    \"train\": train_dataset,\n",
    "    \"test\": test_dataset\n",
    "})\n",
    "\n",
    "# Push to the Hub\n",
    "dataset_dict.push_to_hub('your_hungginface account/wine_review')"
   ]
  },
  {
   "cell_type": "code",
   "execution_count": 16,
   "metadata": {},
   "outputs": [
    {
     "data": {
      "application/vnd.jupyter.widget-view+json": {
       "model_id": "4b96848cd54445a29feb3263873e4ce7",
       "version_major": 2,
       "version_minor": 0
      },
      "text/plain": [
       "Downloading readme:   0%|          | 0.00/586 [00:00<?, ?B/s]"
      ]
     },
     "metadata": {},
     "output_type": "display_data"
    },
    {
     "data": {
      "application/vnd.jupyter.widget-view+json": {
       "model_id": "410b7ce5112d4681a15e89b32ef7dc5f",
       "version_major": 2,
       "version_minor": 0
      },
      "text/plain": [
       "Downloading data:   0%|          | 0.00/12.0M [00:00<?, ?B/s]"
      ]
     },
     "metadata": {},
     "output_type": "display_data"
    },
    {
     "data": {
      "application/vnd.jupyter.widget-view+json": {
       "model_id": "91f6fdfb06884f03a09a1aadfd7ad9fd",
       "version_major": 2,
       "version_minor": 0
      },
      "text/plain": [
       "Downloading data:   0%|          | 0.00/3.01M [00:00<?, ?B/s]"
      ]
     },
     "metadata": {},
     "output_type": "display_data"
    },
    {
     "data": {
      "application/vnd.jupyter.widget-view+json": {
       "model_id": "7c05f0ad15d1438c8f87b1b5bf3388ab",
       "version_major": 2,
       "version_minor": 0
      },
      "text/plain": [
       "Generating train split:   0%|          | 0/68918 [00:00<?, ? examples/s]"
      ]
     },
     "metadata": {},
     "output_type": "display_data"
    },
    {
     "data": {
      "application/vnd.jupyter.widget-view+json": {
       "model_id": "d5f9c9713300448e90a5e1112ff1319d",
       "version_major": 2,
       "version_minor": 0
      },
      "text/plain": [
       "Generating test split:   0%|          | 0/17230 [00:00<?, ? examples/s]"
      ]
     },
     "metadata": {},
     "output_type": "display_data"
    },
    {
     "data": {
      "text/plain": [
       "DatasetDict({\n",
       "    train: Dataset({\n",
       "        features: ['wine_id', 'country', 'description', 'designation', 'points', 'price'],\n",
       "        num_rows: 68918\n",
       "    })\n",
       "    test: Dataset({\n",
       "        features: ['wine_id', 'country', 'description', 'designation', 'points', 'price'],\n",
       "        num_rows: 17230\n",
       "    })\n",
       "})"
      ]
     },
     "execution_count": 16,
     "metadata": {},
     "output_type": "execute_result"
    }
   ],
   "source": [
    "remote_dataset = load_dataset('your_hungginface account/wine_review')\n",
    "remote_dataset"
   ]
  }
 ],
 "metadata": {
  "colab": {
   "name": "Time to slice and dice",
   "provenance": []
  },
  "kernelspec": {
   "display_name": "Python 3",
   "language": "python",
   "name": "python3"
  },
  "language_info": {
   "codemirror_mode": {
    "name": "ipython",
    "version": 3
   },
   "file_extension": ".py",
   "mimetype": "text/x-python",
   "name": "python",
   "nbconvert_exporter": "python",
   "pygments_lexer": "ipython3",
   "version": "3.8.10"
  }
 },
 "nbformat": 4,
 "nbformat_minor": 4
}
